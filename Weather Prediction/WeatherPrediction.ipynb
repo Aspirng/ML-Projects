{
 "cells": [
  {
   "cell_type": "markdown",
   "id": "ac110f98",
   "metadata": {},
   "source": []
  },
  {
   "cell_type": "code",
   "execution_count": 14,
   "id": "d2245429",
   "metadata": {},
   "outputs": [],
   "source": [
    "import requests "
   ]
  },
  {
   "cell_type": "code",
   "execution_count": 15,
   "id": "e07f75bb",
   "metadata": {},
   "outputs": [],
   "source": [
    "import pandas as pd\n",
    "import numpy as np\n",
    "from sklearn.model_selection import train_test_split\n",
    "from sklearn.preprocessing import LabelEncoder ## to convert categorical data to numerical\n",
    "from sklearn.ensemble import RandomForestClassifier, RandomForestRegressor\n",
    "from sklearn.metrics import mean_squared_error\n",
    "from datetime import datetime, timedelta\n",
    "import pytz\n"
   ]
  },
  {
   "cell_type": "code",
   "execution_count": 16,
   "id": "0c1f1213",
   "metadata": {},
   "outputs": [],
   "source": [
    "API_KEY = '4cef118c7f7d96c246bcd5db70793d03'\n",
    "BASE_URL = 'https://api.openweathermap.org/data/2.5/'"
   ]
  },
  {
   "cell_type": "code",
   "execution_count": 17,
   "id": "21242cab",
   "metadata": {},
   "outputs": [],
   "source": [
    "def get_current_weather(city):\n",
    "    url = f\"{BASE_URL }weather?q={city}&{API_KEY}&units=metric\"\n",
    "    response = requests.get(url)\n",
    "    data = response.json()\n",
    "    return {\n",
    "        'city' : data['name'],\n",
    "        'current_temp' : round(data['main']['temp']),\n",
    "        'feels_like': round(data['main']['feels_like']),\n",
    "        'temp_min': round(data['main']['temp_min']),\n",
    "        'temp_max': round(data['main']['temp_max']),\n",
    "        'humidity': round(data['main']['humidity']),\n",
    "        'description': data['weather'][0]['description'],\n",
    "        'country' : data['sys']['country'],\n",
    "        'Wind_Gust_Dir' : data['wind']['deg'],\n",
    "        'pressure' : data['main']['pressure'],\n",
    "        'Wind_gust_Speed' : data['wind']['speed'],\n",
    "        \n",
    "        \n",
    "    }"
   ]
  },
  {
   "cell_type": "code",
   "execution_count": 18,
   "id": "822f0fe4",
   "metadata": {},
   "outputs": [],
   "source": [
    "def read_historical_data(filename):\n",
    "    df = pd.read_csv(filename)\n",
    "    df = df.dropna()\n",
    "    df = df.drop_duplicates()\n",
    "    return df\n"
   ]
  },
  {
   "cell_type": "code",
   "execution_count": 19,
   "id": "3e74746d",
   "metadata": {},
   "outputs": [],
   "source": [
    "def prepare_data(data):\n",
    "    le = LabelEncoder()\n",
    "    data['WindGustDir'] = le.fit_transform(data['WindGustDir'])\n",
    "    data['RainTomorrow'] = le.fit_transform(data['RainTomorrow'])\n",
    "    \n",
    "    \n",
    "    X = data[['MinTemp', 'MaxTemp',  'WindGustDir', 'WindGustSpeed','Humidity', 'Pressure','Temp']]\n",
    "    y = data['RainTomorrow']\n",
    "    \n",
    "    \n",
    "    return X, y, le"
   ]
  },
  {
   "cell_type": "code",
   "execution_count": 20,
   "id": "3c2664c3",
   "metadata": {},
   "outputs": [],
   "source": [
    "def train_model(X, y):\n",
    "    X_train, X_test, y_train, y_test = train_test_split(X,y, test_size = 0.2, random_state=42)\n",
    "    model = RandomForestClassifier(n_estimators = 100, random_state= 42)\n",
    "    model.fit(X_train, y_train)\n",
    "    \n",
    "    y_pred = model.predict(X_test)\n",
    "    mse = mean_squared_error(y_test, y_pred)\n",
    "    \n",
    "    print(\"MSE is \", mse)\n",
    "    \n",
    "    return model"
   ]
  },
  {
   "cell_type": "code",
   "execution_count": 21,
   "id": "5c5a6e95",
   "metadata": {},
   "outputs": [],
   "source": [
    "def prepare_regression_data(data, feature):\n",
    "    x, y = [], []\n",
    "    for i in range(len(data)-1):\n",
    "        x.append(data[feature].iloc[i])\n",
    "        y.append(data[feature].iloc[i+1])\n",
    "    \n",
    "    x = np.array(x).reshape(-1,1)\n",
    "    y = np.array(y)\n",
    "    return x, y\n"
   ]
  },
  {
   "cell_type": "code",
   "execution_count": 22,
   "id": "a9e3d478",
   "metadata": {},
   "outputs": [],
   "source": [
    "def train_regression_model(x, y):\n",
    "    x_train, x_test, y_train, y_test = train_test_split(x,y, test_size = 0.2, random_state=42)\n",
    "    model = RandomForestRegressor(n_estimators = 100, random_state= 42)\n",
    "    model.fit(x_train, y_train)\n",
    "    \n",
    "    y_pred = model.predict(x_test)\n",
    "    mse = mean_squared_error(y_test, y_pred)\n",
    "    \n",
    "    print(\"MSE is \", mse)\n",
    "    \n",
    "    return model"
   ]
  },
  {
   "cell_type": "code",
   "execution_count": 23,
   "id": "9aed6d0d",
   "metadata": {},
   "outputs": [],
   "source": [
    "def predict_future(model,current_value):\n",
    "    predictions = [current_value]\n",
    "    \n",
    "    for i in range(5):\n",
    "        next_value = model.predict(np.array(predictions[-1]))\n",
    "        predictions.append(next_value[0])\n",
    "        \n",
    "    return predictions[1:]  # Exclude the initial current value"
   ]
  },
  {
   "cell_type": "code",
   "execution_count": 25,
   "id": "03c505d4",
   "metadata": {},
   "outputs": [
    {
     "ename": "KeyError",
     "evalue": "'name'",
     "output_type": "error",
     "traceback": [
      "\u001b[0;31m---------------------------------------------------------------------------\u001b[0m",
      "\u001b[0;31mKeyError\u001b[0m                                  Traceback (most recent call last)",
      "Cell \u001b[0;32mIn[25], line 66\u001b[0m\n\u001b[1;32m     63\u001b[0m         forecast_time \u001b[38;5;241m=\u001b[39m next_hour \u001b[38;5;241m+\u001b[39m timedelta(hours\u001b[38;5;241m=\u001b[39mi)\n\u001b[1;32m     64\u001b[0m         \u001b[38;5;28mprint\u001b[39m(\u001b[38;5;124mf\u001b[39m\u001b[38;5;124m\"\u001b[39m\u001b[38;5;132;01m{\u001b[39;00mforecast_time\u001b[38;5;241m.\u001b[39mstrftime(\u001b[38;5;124m'\u001b[39m\u001b[38;5;124m%\u001b[39m\u001b[38;5;124mY-\u001b[39m\u001b[38;5;124m%\u001b[39m\u001b[38;5;124mm-\u001b[39m\u001b[38;5;132;01m%d\u001b[39;00m\u001b[38;5;124m \u001b[39m\u001b[38;5;124m%\u001b[39m\u001b[38;5;124mH:\u001b[39m\u001b[38;5;124m%\u001b[39m\u001b[38;5;124mM\u001b[39m\u001b[38;5;124m'\u001b[39m)\u001b[38;5;132;01m}\u001b[39;00m\u001b[38;5;124m - Temp: \u001b[39m\u001b[38;5;132;01m{\u001b[39;00m\u001b[38;5;28mround\u001b[39m(future_temp[i])\u001b[38;5;132;01m}\u001b[39;00m\u001b[38;5;124m°C, Humidity: \u001b[39m\u001b[38;5;132;01m{\u001b[39;00m\u001b[38;5;28mround\u001b[39m(future_hum[i])\u001b[38;5;132;01m}\u001b[39;00m\u001b[38;5;124m%\u001b[39m\u001b[38;5;124m\"\u001b[39m)\n\u001b[0;32m---> 66\u001b[0m weather_view()\n",
      "Cell \u001b[0;32mIn[25], line 3\u001b[0m, in \u001b[0;36mweather_view\u001b[0;34m()\u001b[0m\n\u001b[1;32m      1\u001b[0m \u001b[38;5;28;01mdef\u001b[39;00m \u001b[38;5;21mweather_view\u001b[39m():\n\u001b[1;32m      2\u001b[0m     city \u001b[38;5;241m=\u001b[39m \u001b[38;5;28minput\u001b[39m(\u001b[38;5;124m\"\u001b[39m\u001b[38;5;124mEnter city name: \u001b[39m\u001b[38;5;124m\"\u001b[39m)\n\u001b[0;32m----> 3\u001b[0m     current_weather \u001b[38;5;241m=\u001b[39m get_current_weather(city)\n\u001b[1;32m      6\u001b[0m     historical_data \u001b[38;5;241m=\u001b[39m read_historical_data(\u001b[38;5;124m'\u001b[39m\u001b[38;5;124mweather.csv\u001b[39m\u001b[38;5;124m'\u001b[39m)\n\u001b[1;32m      8\u001b[0m     x, y, le \u001b[38;5;241m=\u001b[39m prepare_data(historical_data)\n",
      "Cell \u001b[0;32mIn[17], line 6\u001b[0m, in \u001b[0;36mget_current_weather\u001b[0;34m(city)\u001b[0m\n\u001b[1;32m      3\u001b[0m response \u001b[38;5;241m=\u001b[39m requests\u001b[38;5;241m.\u001b[39mget(url)\n\u001b[1;32m      4\u001b[0m data \u001b[38;5;241m=\u001b[39m response\u001b[38;5;241m.\u001b[39mjson()\n\u001b[1;32m      5\u001b[0m \u001b[38;5;28;01mreturn\u001b[39;00m {\n\u001b[0;32m----> 6\u001b[0m     \u001b[38;5;124m'\u001b[39m\u001b[38;5;124mcity\u001b[39m\u001b[38;5;124m'\u001b[39m : data[\u001b[38;5;124m'\u001b[39m\u001b[38;5;124mname\u001b[39m\u001b[38;5;124m'\u001b[39m],\n\u001b[1;32m      7\u001b[0m     \u001b[38;5;124m'\u001b[39m\u001b[38;5;124mcurrent_temp\u001b[39m\u001b[38;5;124m'\u001b[39m : \u001b[38;5;28mround\u001b[39m(data[\u001b[38;5;124m'\u001b[39m\u001b[38;5;124mmain\u001b[39m\u001b[38;5;124m'\u001b[39m][\u001b[38;5;124m'\u001b[39m\u001b[38;5;124mtemp\u001b[39m\u001b[38;5;124m'\u001b[39m]),\n\u001b[1;32m      8\u001b[0m     \u001b[38;5;124m'\u001b[39m\u001b[38;5;124mfeels_like\u001b[39m\u001b[38;5;124m'\u001b[39m: \u001b[38;5;28mround\u001b[39m(data[\u001b[38;5;124m'\u001b[39m\u001b[38;5;124mmain\u001b[39m\u001b[38;5;124m'\u001b[39m][\u001b[38;5;124m'\u001b[39m\u001b[38;5;124mfeels_like\u001b[39m\u001b[38;5;124m'\u001b[39m]),\n\u001b[1;32m      9\u001b[0m     \u001b[38;5;124m'\u001b[39m\u001b[38;5;124mtemp_min\u001b[39m\u001b[38;5;124m'\u001b[39m: \u001b[38;5;28mround\u001b[39m(data[\u001b[38;5;124m'\u001b[39m\u001b[38;5;124mmain\u001b[39m\u001b[38;5;124m'\u001b[39m][\u001b[38;5;124m'\u001b[39m\u001b[38;5;124mtemp_min\u001b[39m\u001b[38;5;124m'\u001b[39m]),\n\u001b[1;32m     10\u001b[0m     \u001b[38;5;124m'\u001b[39m\u001b[38;5;124mtemp_max\u001b[39m\u001b[38;5;124m'\u001b[39m: \u001b[38;5;28mround\u001b[39m(data[\u001b[38;5;124m'\u001b[39m\u001b[38;5;124mmain\u001b[39m\u001b[38;5;124m'\u001b[39m][\u001b[38;5;124m'\u001b[39m\u001b[38;5;124mtemp_max\u001b[39m\u001b[38;5;124m'\u001b[39m]),\n\u001b[1;32m     11\u001b[0m     \u001b[38;5;124m'\u001b[39m\u001b[38;5;124mhumidity\u001b[39m\u001b[38;5;124m'\u001b[39m: \u001b[38;5;28mround\u001b[39m(data[\u001b[38;5;124m'\u001b[39m\u001b[38;5;124mmain\u001b[39m\u001b[38;5;124m'\u001b[39m][\u001b[38;5;124m'\u001b[39m\u001b[38;5;124mhumidity\u001b[39m\u001b[38;5;124m'\u001b[39m]),\n\u001b[1;32m     12\u001b[0m     \u001b[38;5;124m'\u001b[39m\u001b[38;5;124mdescription\u001b[39m\u001b[38;5;124m'\u001b[39m: data[\u001b[38;5;124m'\u001b[39m\u001b[38;5;124mweather\u001b[39m\u001b[38;5;124m'\u001b[39m][\u001b[38;5;241m0\u001b[39m][\u001b[38;5;124m'\u001b[39m\u001b[38;5;124mdescription\u001b[39m\u001b[38;5;124m'\u001b[39m],\n\u001b[1;32m     13\u001b[0m     \u001b[38;5;124m'\u001b[39m\u001b[38;5;124mcountry\u001b[39m\u001b[38;5;124m'\u001b[39m : data[\u001b[38;5;124m'\u001b[39m\u001b[38;5;124msys\u001b[39m\u001b[38;5;124m'\u001b[39m][\u001b[38;5;124m'\u001b[39m\u001b[38;5;124mcountry\u001b[39m\u001b[38;5;124m'\u001b[39m],\n\u001b[1;32m     14\u001b[0m     \u001b[38;5;124m'\u001b[39m\u001b[38;5;124mWind_Gust_Dir\u001b[39m\u001b[38;5;124m'\u001b[39m : data[\u001b[38;5;124m'\u001b[39m\u001b[38;5;124mwind\u001b[39m\u001b[38;5;124m'\u001b[39m][\u001b[38;5;124m'\u001b[39m\u001b[38;5;124mdeg\u001b[39m\u001b[38;5;124m'\u001b[39m],\n\u001b[1;32m     15\u001b[0m     \u001b[38;5;124m'\u001b[39m\u001b[38;5;124mpressure\u001b[39m\u001b[38;5;124m'\u001b[39m : data[\u001b[38;5;124m'\u001b[39m\u001b[38;5;124mmain\u001b[39m\u001b[38;5;124m'\u001b[39m][\u001b[38;5;124m'\u001b[39m\u001b[38;5;124mpressure\u001b[39m\u001b[38;5;124m'\u001b[39m],\n\u001b[1;32m     16\u001b[0m     \u001b[38;5;124m'\u001b[39m\u001b[38;5;124mWind_gust_Speed\u001b[39m\u001b[38;5;124m'\u001b[39m : data[\u001b[38;5;124m'\u001b[39m\u001b[38;5;124mwind\u001b[39m\u001b[38;5;124m'\u001b[39m][\u001b[38;5;124m'\u001b[39m\u001b[38;5;124mspeed\u001b[39m\u001b[38;5;124m'\u001b[39m],\n\u001b[1;32m     17\u001b[0m     \n\u001b[1;32m     18\u001b[0m     \n\u001b[1;32m     19\u001b[0m }\n",
      "\u001b[0;31mKeyError\u001b[0m: 'name'"
     ]
    }
   ],
   "source": [
    "def weather_view():\n",
    "    city = input(\"Enter city name: \")\n",
    "    current_weather = get_current_weather(city)\n",
    "    \n",
    "    \n",
    "    historical_data = read_historical_data('weather.csv')\n",
    "    \n",
    "    x, y, le = prepare_data(historical_data)\n",
    "    rain_model = train_model(x, y)\n",
    "    \n",
    "    \n",
    "    wind_deg = current_weather['Wind_Gust_Dir'] %360\n",
    "    compass_points = [\n",
    "    (\"N\", 0, 11.25), (\"NNE\", 11.25, 33.75), (\"NE\", 33.75, 56.25),\n",
    "    (\"ENE\", 56.25, 78.75), (\"E\", 78.75, 101.25), (\"ESE\", 101.25, 123.75),\n",
    "    (\"SE\", 123.75, 146.25), (\"SSE\", 146.25, 168.75), (\"S\", 168.75, 191.25),\n",
    "    (\"SSW\", 191.25, 213.75), (\"SW\", 213.75, 236.25), (\"WSW\", 236.25, 258.75),\n",
    "    (\"W\", 258.75, 281.25), (\"WNW\", 281.25, 303.75), (\"NW\", 303.75, 326.25),\n",
    "    (\"NNW\", 326.25, 348.75)\n",
    "]\n",
    "    compass_direction = next(point for point, start, end in compass_points if start <= wind_deg < end)\n",
    "    compass_direction_encoded = le.transform([compass_direction])[0] if compass_direction in le.classes_ else -1\n",
    "    \n",
    "    \n",
    "    current_data = {\n",
    "        'MinTemp' :  current_weather['temp_min'],\n",
    "        'MaxTemp' : current_weather['temp_max'],\n",
    "        'WindGustDir' : compass_direction_encoded,\n",
    "        'WindGustSpeed' : current_weather['Wind_gust_Speed'],\n",
    "        'Humidity' : current_weather['humidity'],\n",
    "        'Pressure' : current_weather['pressure'],\n",
    "        'Temp' : current_weather['current_temp'],\n",
    "    }\n",
    "    \n",
    "    current_df = pd.DataFrame([current_data])\n",
    "    \n",
    "    rain_prediction = rain_model.predict(current_df)[0]\n",
    "    \n",
    "    x_temp, y_temp = prepare_regression_data(historical_data, 'Temp')\n",
    "    x_hum, y_hum = prepare_regression_data(historical_data, 'Humidity')\n",
    "    temp_model = train_regression_model(x_temp, y_temp)\n",
    "    hum_model = train_regression_model(x_hum, y_hum)\n",
    "    \n",
    "    future_temp = predict_future(temp_model, current_weather['temp_min'])\n",
    "    future_hum = predict_future(hum_model, current_weather['humidity'])\n",
    "    \n",
    "    timezome = pytz.timezone('Asia/Karachi')\n",
    "    now = datetime.now(timezome)\n",
    "    next_hour = now + timedelta(hours=1)\n",
    "    next_hour = next_hour.replace(minute=0, second=0, microsecond=0)\n",
    "    \n",
    "    print(f\"Current weather in {current_weather['city']}, {current_weather['country']}:\")\n",
    "    print(f\"Temperature: {current_weather['current_temp']}°C (Feels like {current_weather['feels_like']}°C)\")\n",
    "    print(f\"Min Temperature: {current_weather['temp_min']}°C\")\n",
    "    print(f\"Max Temperature: {current_weather['temp_max']}°C\")\n",
    "    print(f\"Humidity: {current_weather['humidity']}%\")\n",
    "    print(f\"Pressure: {current_weather['pressure']} hPa\")\n",
    "    print(f\"Wind: {current_weather['Wind_gust_Speed']} m/s, Direction: {compass_direction}\")\n",
    "    print(f\"Description: {current_weather['description']}\")\n",
    "    print(f\"Rain Tomorrow Prediction: {'Yes' if rain_prediction == 1 else 'No'}\")\n",
    "    print(\"\\n5-Hour Forecast:\")\n",
    "    for i in range(5):\n",
    "        forecast_time = next_hour + timedelta(hours=i)\n",
    "        print(f\"{forecast_time.strftime('%Y-%m-%d %H:%M')} - Temp: {round(future_temp[i])}°C, Humidity: {round(future_hum[i])}%\")\n",
    "        \n",
    "weather_view()"
   ]
  },
  {
   "cell_type": "code",
   "execution_count": null,
   "id": "dec3b143",
   "metadata": {},
   "outputs": [],
   "source": []
  }
 ],
 "metadata": {
  "kernelspec": {
   "display_name": "base",
   "language": "python",
   "name": "python3"
  },
  "language_info": {
   "codemirror_mode": {
    "name": "ipython",
    "version": 3
   },
   "file_extension": ".py",
   "mimetype": "text/x-python",
   "name": "python",
   "nbconvert_exporter": "python",
   "pygments_lexer": "ipython3",
   "version": "3.11.5"
  }
 },
 "nbformat": 4,
 "nbformat_minor": 5
}
