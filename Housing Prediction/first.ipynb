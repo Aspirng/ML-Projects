{
 "cells": [
  {
   "cell_type": "code",
   "execution_count": 28,
   "id": "dacb9feb",
   "metadata": {},
   "outputs": [],
   "source": [
    "from sklearn import datasets\n",
    "from sklearn.preprocessing import PolynomialFeatures\n",
    "import joblib "
   ]
  },
  {
   "cell_type": "code",
   "execution_count": 3,
   "id": "aadc0766",
   "metadata": {},
   "outputs": [],
   "source": [
    "housing = datasets.fetch_california_housing()"
   ]
  },
  {
   "cell_type": "code",
   "execution_count": 3,
   "id": "58a61082",
   "metadata": {},
   "outputs": [
    {
     "name": "stdout",
     "output_type": "stream",
     "text": [
      "['MedInc', 'HouseAge', 'AveRooms', 'AveBedrms', 'Population', 'AveOccup', 'Latitude', 'Longitude']\n"
     ]
    }
   ],
   "source": [
    "print(housing.feature_names)"
   ]
  },
  {
   "cell_type": "code",
   "execution_count": 16,
   "id": "190d1762",
   "metadata": {},
   "outputs": [
    {
     "name": "stdout",
     "output_type": "stream",
     "text": [
      "[   8.3252       41.            6.98412698    1.02380952  322.\n",
      "    2.55555556   37.88       -122.23      ]\n",
      "4.526\n",
      "(20640, 8)\n",
      "(20640, 45)\n"
     ]
    }
   ],
   "source": [
    "x = housing.data\n",
    "y = housing.target\n",
    "print(x[0])\n",
    "print(y[0])\n",
    "\n",
    "print(x.shape)\n",
    "poly = PolynomialFeatures()\n",
    "x = poly.fit_transform(x)\n",
    "print(x.shape)\n",
    "\n"
   ]
  },
  {
   "cell_type": "code",
   "execution_count": 6,
   "id": "960dcacb",
   "metadata": {},
   "outputs": [],
   "source": [
    "from sklearn.model_selection import train_test_split"
   ]
  },
  {
   "cell_type": "code",
   "execution_count": 18,
   "id": "6b16f376",
   "metadata": {},
   "outputs": [],
   "source": [
    "x_train, x_test, y_train, y_test = train_test_split(x,y, test_size=0.2, random_state=432)\n",
    "#the random state is used to ensure that the split is always the same\n",
    "#it shuffles the data in the same way every time, so that if we wanted to run the same simulation again, we would get the same results"
   ]
  },
  {
   "cell_type": "code",
   "execution_count": 19,
   "id": "eeecb243",
   "metadata": {},
   "outputs": [
    {
     "name": "stdout",
     "output_type": "stream",
     "text": [
      "[ 1.00000000e+00  2.14420000e+00  5.20000000e+01  3.94886364e+00\n",
      "  1.03693182e+00  9.21000000e+02  2.61647727e+00  3.73400000e+01\n",
      " -1.21880000e+02  4.59759364e+00  1.11498400e+02  8.46715341e+00\n",
      "  2.22338920e+00  1.97480820e+03  5.61025057e+00  8.00644280e+01\n",
      " -2.61335096e+02  2.70400000e+03  2.05340909e+02  5.39204545e+01\n",
      "  4.78920000e+04  1.36056818e+02  1.94168000e+03 -6.33776000e+03\n",
      "  1.55935240e+01  4.09470235e+00  3.63690341e+03  1.03321120e+01\n",
      "  1.47450568e+02 -4.81287500e+02  1.07522760e+00  9.55014205e+02\n",
      "  2.71310854e+00  3.87190341e+01 -1.26381250e+02  8.48241000e+05\n",
      "  2.40977557e+03  3.43901400e+04 -1.12251480e+05  6.84595332e+00\n",
      "  9.76992614e+01 -3.18896250e+02  1.39427560e+03 -4.55099920e+03\n",
      "  1.48547344e+04]\n",
      "1.889\n"
     ]
    }
   ],
   "source": [
    "print(x_train[0])\n",
    "print(y_train[0])"
   ]
  },
  {
   "cell_type": "code",
   "execution_count": 23,
   "id": "90fe5829",
   "metadata": {},
   "outputs": [
    {
     "name": "stdout",
     "output_type": "stream",
     "text": [
      "LinearRegression() 0.6610240212874665\n",
      "HistGradientBoostingRegressor() 0.8371572645475587\n",
      "RandomForestRegressor(n_jobs=-1) 0.8048732112227579\n"
     ]
    }
   ],
   "source": [
    "from sklearn.linear_model import LinearRegression\n",
    "from sklearn.metrics import r2_score\n",
    "from sklearn.ensemble import HistGradientBoostingRegressor\n",
    "from sklearn.ensemble import RandomForestRegressor\n",
    "\n",
    "LR = LinearRegression()\n",
    "GBR = HistGradientBoostingRegressor()\n",
    "RFR = RandomForestRegressor(\n",
    "    n_jobs = -1\n",
    ")\n",
    "for i in [LR, GBR, RFR]:\n",
    "    \n",
    "    i.fit(x_train, y_train)\n",
    "    y_pred = i.predict(x_test)\n",
    "    r2 = r2_score(y_test, y_pred)\n",
    "    print(i,r2)\n",
    "## this would give us the r2 score of our model, which is a measure of how well our model is performing. The r2 score ranges from 0 to 1, with 1 being a perfect fit.\n",
    "## this is the baseline which we will try to improve upon using more complex models\n"
   ]
  },
  {
   "cell_type": "markdown",
   "id": "4ef564b7",
   "metadata": {},
   "source": [
    " ##NOW FOR OPTIMISATON, through polynomial features, expanding current features into higher degree features"
   ]
  },
  {
   "cell_type": "code",
   "execution_count": 33,
   "id": "5e60b044",
   "metadata": {},
   "outputs": [
    {
     "name": "stdout",
     "output_type": "stream",
     "text": [
      "0.8448530464258948\n"
     ]
    }
   ],
   "source": [
    "\n",
    "model = HistGradientBoostingRegressor(\n",
    "    max_iter = 300,\n",
    "    learning_rate= 0.05\n",
    ")\n",
    "\n",
    "\n",
    "model.fit(x_train, y_train)\n",
    "joblib.dump(model, 'Housing_Prediction_model.joblib')\n",
    "y_pred = model.predict(x_test)\n",
    "r2 = r2_score(y_test, y_pred)\n",
    "print(r2)"
   ]
  },
  {
   "cell_type": "code",
   "execution_count": 34,
   "id": "cff18cd1",
   "metadata": {},
   "outputs": [
    {
     "name": "stdout",
     "output_type": "stream",
     "text": [
      "0.8448530464258948\n"
     ]
    }
   ],
   "source": [
    "local_model = joblib.load(\"Housing_Prediction_model.joblib\")\n",
    "y_pred = local_model.predict(x_test)\n",
    "r2 = r2_score(y_test, y_pred)\n",
    "print(r2)\n",
    "\n"
   ]
  }
 ],
 "metadata": {
  "kernelspec": {
   "display_name": "base",
   "language": "python",
   "name": "python3"
  },
  "language_info": {
   "codemirror_mode": {
    "name": "ipython",
    "version": 3
   },
   "file_extension": ".py",
   "mimetype": "text/x-python",
   "name": "python",
   "nbconvert_exporter": "python",
   "pygments_lexer": "ipython3",
   "version": "3.11.5"
  }
 },
 "nbformat": 4,
 "nbformat_minor": 5
}
